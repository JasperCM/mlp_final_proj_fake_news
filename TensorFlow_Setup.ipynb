{
 "cells": [
  {
   "cell_type": "code",
   "execution_count": 1,
   "metadata": {},
   "outputs": [
    {
     "name": "stdout",
     "output_type": "stream",
     "text": [
      "WARNING:tensorflow:From /Users/jaspermeijering/anaconda3/lib/python3.6/site-packages/tensorflow/contrib/learn/python/learn/datasets/base.py:198: retry (from tensorflow.contrib.learn.python.learn.datasets.base) is deprecated and will be removed in a future version.\n",
      "Instructions for updating:\n",
      "Use the retry module or similar alternatives.\n",
      "TensorFlow version: 1.7.0\n",
      "Eager execution: False\n"
     ]
    }
   ],
   "source": [
    "# based on this guide: https://www.tensorflow.org/get_started/eager\n",
    "\n",
    "from __future__ import absolute_import, division, print_function\n",
    "\n",
    "import os\n",
    "import matplotlib.pyplot as plt\n",
    "\n",
    "import tensorflow as tf\n",
    "import tensorflow.contrib.eager as tfe\n",
    "\n",
    "#tf.enable_eager_execution() # must be run on a start up program\n",
    "\n",
    "print(\"TensorFlow version: {}\".format(tf.VERSION))\n",
    "print(\"Eager execution: {}\".format(tf.executing_eagerly()))\n",
    "\n",
    "import datetime\n",
    "import pandas as pd\n",
    "import numpy as np\n",
    "import random\n"
   ]
  },
  {
   "cell_type": "code",
   "execution_count": 2,
   "metadata": {
    "scrolled": false
   },
   "outputs": [
    {
     "data": {
      "text/html": [
       "<div>\n",
       "<style>\n",
       "    .dataframe thead tr:only-child th {\n",
       "        text-align: right;\n",
       "    }\n",
       "\n",
       "    .dataframe thead th {\n",
       "        text-align: left;\n",
       "    }\n",
       "\n",
       "    .dataframe tbody tr th {\n",
       "        vertical-align: top;\n",
       "    }\n",
       "</style>\n",
       "<table border=\"1\" class=\"dataframe\">\n",
       "  <thead>\n",
       "    <tr style=\"text-align: right;\">\n",
       "      <th></th>\n",
       "      <th>breadth</th>\n",
       "      <th>category</th>\n",
       "      <th>day</th>\n",
       "      <th>depth</th>\n",
       "      <th>engangement</th>\n",
       "      <th>hour</th>\n",
       "      <th>nfollowees</th>\n",
       "      <th>nfollowers</th>\n",
       "      <th>size</th>\n",
       "      <th>veracity</th>\n",
       "      <th>verified</th>\n",
       "      <th>virality</th>\n",
       "    </tr>\n",
       "  </thead>\n",
       "  <tbody>\n",
       "    <tr>\n",
       "      <th>0</th>\n",
       "      <td>1</td>\n",
       "      <td>Politics</td>\n",
       "      <td>22</td>\n",
       "      <td>0</td>\n",
       "      <td>7.092405</td>\n",
       "      <td>21</td>\n",
       "      <td>236.0</td>\n",
       "      <td>164.0</td>\n",
       "      <td>1</td>\n",
       "      <td>FALSE</td>\n",
       "      <td>False</td>\n",
       "      <td>NaN</td>\n",
       "    </tr>\n",
       "    <tr>\n",
       "      <th>1</th>\n",
       "      <td>1</td>\n",
       "      <td>Politics</td>\n",
       "      <td>23</td>\n",
       "      <td>0</td>\n",
       "      <td>8.394500</td>\n",
       "      <td>14</td>\n",
       "      <td>1999.0</td>\n",
       "      <td>870.0</td>\n",
       "      <td>1</td>\n",
       "      <td>FALSE</td>\n",
       "      <td>False</td>\n",
       "      <td>NaN</td>\n",
       "    </tr>\n",
       "    <tr>\n",
       "      <th>2</th>\n",
       "      <td>1</td>\n",
       "      <td>Politics</td>\n",
       "      <td>9</td>\n",
       "      <td>0</td>\n",
       "      <td>6.729679</td>\n",
       "      <td>16</td>\n",
       "      <td>1982.0</td>\n",
       "      <td>452.0</td>\n",
       "      <td>1</td>\n",
       "      <td>FALSE</td>\n",
       "      <td>False</td>\n",
       "      <td>NaN</td>\n",
       "    </tr>\n",
       "    <tr>\n",
       "      <th>3</th>\n",
       "      <td>1</td>\n",
       "      <td>Politics</td>\n",
       "      <td>15</td>\n",
       "      <td>0</td>\n",
       "      <td>0.186418</td>\n",
       "      <td>20</td>\n",
       "      <td>55.0</td>\n",
       "      <td>5.0</td>\n",
       "      <td>1</td>\n",
       "      <td>FALSE</td>\n",
       "      <td>False</td>\n",
       "      <td>NaN</td>\n",
       "    </tr>\n",
       "    <tr>\n",
       "      <th>4</th>\n",
       "      <td>1</td>\n",
       "      <td>Politics</td>\n",
       "      <td>14</td>\n",
       "      <td>0</td>\n",
       "      <td>1.425915</td>\n",
       "      <td>14</td>\n",
       "      <td>129.0</td>\n",
       "      <td>95.0</td>\n",
       "      <td>1</td>\n",
       "      <td>FALSE</td>\n",
       "      <td>False</td>\n",
       "      <td>NaN</td>\n",
       "    </tr>\n",
       "  </tbody>\n",
       "</table>\n",
       "</div>"
      ],
      "text/plain": [
       "   breadth  category  day  depth  engangement  hour  nfollowees  nfollowers  \\\n",
       "0        1  Politics   22      0     7.092405    21       236.0       164.0   \n",
       "1        1  Politics   23      0     8.394500    14      1999.0       870.0   \n",
       "2        1  Politics    9      0     6.729679    16      1982.0       452.0   \n",
       "3        1  Politics   15      0     0.186418    20        55.0         5.0   \n",
       "4        1  Politics   14      0     1.425915    14       129.0        95.0   \n",
       "\n",
       "   size veracity verified  virality  \n",
       "0     1    FALSE    False       NaN  \n",
       "1     1    FALSE    False       NaN  \n",
       "2     1    FALSE    False       NaN  \n",
       "3     1    FALSE    False       NaN  \n",
       "4     1    FALSE    False       NaN  "
      ]
     },
     "execution_count": 2,
     "metadata": {},
     "output_type": "execute_result"
    }
   ],
   "source": [
    "# load in the data\n",
    "\n",
    "metadata_file = '/Users/jaspermeijering/Google Drive/a Study/EPA Study Abroad - Carnegie Mellon University/Courses/CMU - 95845 - Applied Analytics The Machine Learning Pipeline/Machine Learning Pipeline Final Project/Data/FalseNews_Code_Data/data/metadata_anon.txt'\n",
    "\n",
    "# Read meta data \n",
    "fin = open(metadata_file,'r')\n",
    "lines = fin.readlines()\n",
    "fin.close()\n",
    "cascade_id2metadata={}\n",
    "for line in lines:\n",
    "    line = line.replace('\\n','')\n",
    "    item = eval(line)\n",
    "    cascade_id2metadata[item[0]] = item[1]\n",
    "\n",
    "    # Get static measures\n",
    "veracity = []\n",
    "virality = []\n",
    "depth = []\n",
    "breadth = []\n",
    "size = []\n",
    "verified = []\n",
    "nfollowers = []\n",
    "nfollowees = []\n",
    "engagement = []\n",
    "category = []\n",
    "day = []\n",
    "hour = []\n",
    "cascade= []\n",
    "\n",
    "for cascade,metadata in cascade_id2metadata.items():\n",
    "    veracity.append(metadata['veracity'])\n",
    "    virality.append(metadata['virality'])\n",
    "    depth.append(metadata['depth'])\n",
    "    breadth.append(metadata['max_breadth'])\n",
    "    size.append(metadata['size'])\n",
    "    verified.append(metadata['verified_list'][0])\n",
    "    nfollowers.append(metadata['num_followers_list'][0])\n",
    "    nfollowees.append(metadata['num_followees_list'][0])\n",
    "    engagement.append(metadata['engagement_list'][0])\n",
    "    category.append(metadata['rumor_category'])\n",
    "    day.append(metadata['start_date'].day)\n",
    "    hour.append(metadata['start_date'].hour)\n",
    "    #cascadeID.append(cascade) # for merging models\n",
    "\n",
    "# Convert to data frame\n",
    "df = pd.DataFrame({'veracity': veracity, 'virality': virality, 'depth': depth, 'breadth': breadth, 'size': size, 'verified': verified, 'nfollowers': nfollowers, \n",
    "                   'nfollowees': nfollowees, 'engangement': engagement, 'category': category, 'day': day, 'hour': hour})\n",
    "\n",
    "# Inspect\n",
    "df.head(5)\n",
    "\n",
    "\n",
    "#def parse_data(line):\n",
    " #   example_defaults = [[0.], [0.], [0.], [0.], [0]]  # sets field types\n",
    "  #features = tf.reshape(parsed_line[:-1], shape=(4,))\n",
    "   # # Last field is the label\n",
    "  #  label = tf.reshape(parsed_line[-1], shape=())\n",
    "  #  return features, label\n",
    "\n"
   ]
  },
  {
   "cell_type": "code",
   "execution_count": 3,
   "metadata": {
    "collapsed": true
   },
   "outputs": [],
   "source": [
    "df_saved = df\n"
   ]
  },
  {
   "cell_type": "code",
   "execution_count": 43,
   "metadata": {},
   "outputs": [],
   "source": [
    "df = df_saved\n"
   ]
  },
  {
   "cell_type": "markdown",
   "metadata": {},
   "source": [
    "### Make data numeric"
   ]
  },
  {
   "cell_type": "code",
   "execution_count": 5,
   "metadata": {
    "scrolled": false
   },
   "outputs": [
    {
     "name": "stdout",
     "output_type": "stream",
     "text": [
      "Transformed categories to numeric values, this is how they match [Politics, Viral Photos/Stories/Urban Legends, War/Terrorism/Shootings, Science/Nature/Tech/Food/Health, Entertainment, Business, Natural Disasters]\n",
      "Categories (7, object): [Politics, Viral Photos/Stories/Urban Legends, War/Terrorism/Shootings, Science/Nature/Tech/Food/Health, Entertainment, Business, Natural Disasters] [4 6 7 5 2 1 3]\n",
      "Transformed veracity to numeric values, this is how they match [FALSE, TRUE, MIXED]\n",
      "Categories (3, object): [FALSE, TRUE, MIXED] [1 3 2]\n",
      "Transformed verified to numeric values, this is how they match ['None'] [-9223372036854775808]\n"
     ]
    },
    {
     "data": {
      "text/html": [
       "<div>\n",
       "<style>\n",
       "    .dataframe thead tr:only-child th {\n",
       "        text-align: right;\n",
       "    }\n",
       "\n",
       "    .dataframe thead th {\n",
       "        text-align: left;\n",
       "    }\n",
       "\n",
       "    .dataframe tbody tr th {\n",
       "        vertical-align: top;\n",
       "    }\n",
       "</style>\n",
       "<table border=\"1\" class=\"dataframe\">\n",
       "  <thead>\n",
       "    <tr style=\"text-align: right;\">\n",
       "      <th></th>\n",
       "      <th>breadth</th>\n",
       "      <th>category</th>\n",
       "      <th>day</th>\n",
       "      <th>depth</th>\n",
       "      <th>engangement</th>\n",
       "      <th>hour</th>\n",
       "      <th>nfollowees</th>\n",
       "      <th>nfollowers</th>\n",
       "      <th>size</th>\n",
       "      <th>veracity</th>\n",
       "      <th>verified</th>\n",
       "      <th>virality</th>\n",
       "      <th>category_num</th>\n",
       "      <th>veracity_num</th>\n",
       "      <th>verified_cat</th>\n",
       "      <th>verified_num</th>\n",
       "    </tr>\n",
       "  </thead>\n",
       "  <tbody>\n",
       "    <tr>\n",
       "      <th>0</th>\n",
       "      <td>1</td>\n",
       "      <td>Politics</td>\n",
       "      <td>22</td>\n",
       "      <td>0</td>\n",
       "      <td>7.092405</td>\n",
       "      <td>21</td>\n",
       "      <td>236.0</td>\n",
       "      <td>164.0</td>\n",
       "      <td>1</td>\n",
       "      <td>FALSE</td>\n",
       "      <td>None</td>\n",
       "      <td>NaN</td>\n",
       "      <td>4</td>\n",
       "      <td>1</td>\n",
       "      <td>NaN</td>\n",
       "      <td>-9223372036854775808</td>\n",
       "    </tr>\n",
       "    <tr>\n",
       "      <th>1</th>\n",
       "      <td>1</td>\n",
       "      <td>Politics</td>\n",
       "      <td>23</td>\n",
       "      <td>0</td>\n",
       "      <td>8.394500</td>\n",
       "      <td>14</td>\n",
       "      <td>1999.0</td>\n",
       "      <td>870.0</td>\n",
       "      <td>1</td>\n",
       "      <td>FALSE</td>\n",
       "      <td>None</td>\n",
       "      <td>NaN</td>\n",
       "      <td>4</td>\n",
       "      <td>1</td>\n",
       "      <td>NaN</td>\n",
       "      <td>-9223372036854775808</td>\n",
       "    </tr>\n",
       "    <tr>\n",
       "      <th>2</th>\n",
       "      <td>1</td>\n",
       "      <td>Politics</td>\n",
       "      <td>9</td>\n",
       "      <td>0</td>\n",
       "      <td>6.729679</td>\n",
       "      <td>16</td>\n",
       "      <td>1982.0</td>\n",
       "      <td>452.0</td>\n",
       "      <td>1</td>\n",
       "      <td>FALSE</td>\n",
       "      <td>None</td>\n",
       "      <td>NaN</td>\n",
       "      <td>4</td>\n",
       "      <td>1</td>\n",
       "      <td>NaN</td>\n",
       "      <td>-9223372036854775808</td>\n",
       "    </tr>\n",
       "    <tr>\n",
       "      <th>3</th>\n",
       "      <td>1</td>\n",
       "      <td>Politics</td>\n",
       "      <td>15</td>\n",
       "      <td>0</td>\n",
       "      <td>0.186418</td>\n",
       "      <td>20</td>\n",
       "      <td>55.0</td>\n",
       "      <td>5.0</td>\n",
       "      <td>1</td>\n",
       "      <td>FALSE</td>\n",
       "      <td>None</td>\n",
       "      <td>NaN</td>\n",
       "      <td>4</td>\n",
       "      <td>1</td>\n",
       "      <td>NaN</td>\n",
       "      <td>-9223372036854775808</td>\n",
       "    </tr>\n",
       "    <tr>\n",
       "      <th>4</th>\n",
       "      <td>1</td>\n",
       "      <td>Politics</td>\n",
       "      <td>14</td>\n",
       "      <td>0</td>\n",
       "      <td>1.425915</td>\n",
       "      <td>14</td>\n",
       "      <td>129.0</td>\n",
       "      <td>95.0</td>\n",
       "      <td>1</td>\n",
       "      <td>FALSE</td>\n",
       "      <td>None</td>\n",
       "      <td>NaN</td>\n",
       "      <td>4</td>\n",
       "      <td>1</td>\n",
       "      <td>NaN</td>\n",
       "      <td>-9223372036854775808</td>\n",
       "    </tr>\n",
       "  </tbody>\n",
       "</table>\n",
       "</div>"
      ],
      "text/plain": [
       "   breadth  category  day  depth  engangement  hour  nfollowees  nfollowers  \\\n",
       "0        1  Politics   22      0     7.092405    21       236.0       164.0   \n",
       "1        1  Politics   23      0     8.394500    14      1999.0       870.0   \n",
       "2        1  Politics    9      0     6.729679    16      1982.0       452.0   \n",
       "3        1  Politics   15      0     0.186418    20        55.0         5.0   \n",
       "4        1  Politics   14      0     1.425915    14       129.0        95.0   \n",
       "\n",
       "   size veracity verified  virality  category_num  veracity_num verified_cat  \\\n",
       "0     1    FALSE     None       NaN             4             1          NaN   \n",
       "1     1    FALSE     None       NaN             4             1          NaN   \n",
       "2     1    FALSE     None       NaN             4             1          NaN   \n",
       "3     1    FALSE     None       NaN             4             1          NaN   \n",
       "4     1    FALSE     None       NaN             4             1          NaN   \n",
       "\n",
       "          verified_num  \n",
       "0 -9223372036854775808  \n",
       "1 -9223372036854775808  \n",
       "2 -9223372036854775808  \n",
       "3 -9223372036854775808  \n",
       "4 -9223372036854775808  "
      ]
     },
     "execution_count": 5,
     "metadata": {},
     "output_type": "execute_result"
    }
   ],
   "source": [
    "# Make category numeric\n",
    "df[\"category\"] = df[\"category\"].astype('category')\n",
    "df[\"category_num\"] = df.category.cat.rename_categories([1,2,3,4,5,6,7])\n",
    "df[\"category_num\"] = df[\"category_num\"].astype('int')\n",
    "print(\"Transformed categories to numeric values, this is how they match\",df.category.unique(),df.category_num.unique())\n",
    "\n",
    "# Make veracity numeric\n",
    "df[\"veracity\"] = df[\"veracity\"].astype('category')\n",
    "df[\"veracity_num\"] = df.veracity.cat.rename_categories([1,2,3])\n",
    "df[\"veracity_num\"] = df[\"veracity_num\"].astype('int')\n",
    "print(\"Transformed veracity to numeric values, this is how they match\",df.veracity.unique(),df.veracity_num.unique())\n",
    "\n",
    "# Make verified numeric\n",
    "df[\"verified_cat\"] = df[\"verified\"].astype('category')\n",
    "df[\"verified_cat\"] = df[\"verified_cat\"].cat.set_categories([\"True\",\"False\",\"None\"])\n",
    "#df[\"verified_cat\"].isnull().sum() # 136 nan / none values for verified\n",
    "df.loc[df[\"verified_cat\"].isnull(),'verified'] = \"None\" # -> leave these cascades in. # this is wrong\n",
    "df[\"verified_num\"] = df.verified_cat.cat.rename_categories([1,2,3])\n",
    "df[\"verified_num\"] = df[\"verified_num\"].astype('int')\n",
    "print(\"Transformed verified to numeric values, this is how they match\",df.verified.unique(),df.verified_num.unique())\n",
    "\n",
    "#df.dtypes\n",
    "df.head()\n"
   ]
  },
  {
   "cell_type": "markdown",
   "metadata": {},
   "source": [
    "# verified is wrong"
   ]
  },
  {
   "cell_type": "markdown",
   "metadata": {},
   "source": [
    "### Drop NaN values for virality. "
   ]
  },
  {
   "cell_type": "code",
   "execution_count": 45,
   "metadata": {},
   "outputs": [
    {
     "name": "stdout",
     "output_type": "stream",
     "text": [
      "0 of 42081 cascades are single tweet cascades. These tweets were not retweeded. We are only interessted in rumours that have been spread and want to predict the veracity based on how information deffused These sigle tweets will therefor be dropped from the dataset.\n"
     ]
    },
    {
     "data": {
      "text/plain": [
       "count    42081.000000\n",
       "mean         1.389059\n",
       "std          0.727977\n",
       "min          1.000000\n",
       "25%          1.000000\n",
       "50%          1.000000\n",
       "75%          1.000000\n",
       "max          3.000000\n",
       "Name: veracity_num, dtype: float64"
      ]
     },
     "execution_count": 45,
     "metadata": {},
     "output_type": "execute_result"
    }
   ],
   "source": [
    "print(df.virality.isnull().sum(),\"of\",len(df),\"cascades are single tweet cascades. These tweets were not retweeded. \\\n",
    "We are only interessted in rumours that have been spread and want to predict the veracity based on how information deffused \\\n",
    "These sigle tweets will therefor be dropped from the dataset.\")\n",
    "\n",
    "df = df[np.isfinite(df['virality'])]\n",
    "df.head(10)"
   ]
  },
  {
   "cell_type": "markdown",
   "metadata": {},
   "source": [
    "### Only keep relevant columns"
   ]
  },
  {
   "cell_type": "code",
   "execution_count": 7,
   "metadata": {
    "collapsed": true,
    "scrolled": false
   },
   "outputs": [],
   "source": [
    "# Only keep relevant columns\n",
    "column_names_df = ['veracity_num','breadth', 'category_num', 'depth', 'engangement', 'day','nfollowees', 'nfollowers', 'size', 'verified_num', 'virality']\n",
    "column_names_x =['breadth', 'category_num', 'depth', 'engangement', 'day','nfollowees', 'nfollowers', 'size', 'verified_num', 'virality']\n",
    "column_names_x_cat = ['category_num','day','verified_num',]\n",
    "column_names_x_con = ['breadth', 'depth', 'engangement', 'nfollowees', 'nfollowers', 'size', 'virality']\n",
    "column_names_y =['veracity_num']\n",
    "\n",
    "df = df.loc[:,column_names_df]\n",
    "#df.head()\n"
   ]
  },
  {
   "cell_type": "code",
   "execution_count": 9,
   "metadata": {},
   "outputs": [
    {
     "data": {
      "text/html": [
       "<div>\n",
       "<style>\n",
       "    .dataframe thead tr:only-child th {\n",
       "        text-align: right;\n",
       "    }\n",
       "\n",
       "    .dataframe thead th {\n",
       "        text-align: left;\n",
       "    }\n",
       "\n",
       "    .dataframe tbody tr th {\n",
       "        vertical-align: top;\n",
       "    }\n",
       "</style>\n",
       "<table border=\"1\" class=\"dataframe\">\n",
       "  <thead>\n",
       "    <tr style=\"text-align: right;\">\n",
       "      <th></th>\n",
       "      <th>veracity_num</th>\n",
       "      <th>breadth</th>\n",
       "      <th>category_num</th>\n",
       "      <th>depth</th>\n",
       "      <th>engangement</th>\n",
       "      <th>day</th>\n",
       "      <th>nfollowees</th>\n",
       "      <th>nfollowers</th>\n",
       "      <th>size</th>\n",
       "      <th>verified_num</th>\n",
       "      <th>virality</th>\n",
       "      <th>train_test</th>\n",
       "    </tr>\n",
       "  </thead>\n",
       "  <tbody>\n",
       "    <tr>\n",
       "      <th>7777</th>\n",
       "      <td>2</td>\n",
       "      <td>10703</td>\n",
       "      <td>6</td>\n",
       "      <td>11</td>\n",
       "      <td>25.799399</td>\n",
       "      <td>28</td>\n",
       "      <td>186.0</td>\n",
       "      <td>672.0</td>\n",
       "      <td>23228</td>\n",
       "      <td>-9223372036854775808</td>\n",
       "      <td>4.003857</td>\n",
       "      <td>test</td>\n",
       "    </tr>\n",
       "    <tr>\n",
       "      <th>7778</th>\n",
       "      <td>2</td>\n",
       "      <td>11783</td>\n",
       "      <td>5</td>\n",
       "      <td>9</td>\n",
       "      <td>10.811974</td>\n",
       "      <td>1</td>\n",
       "      <td>313.0</td>\n",
       "      <td>380.0</td>\n",
       "      <td>14827</td>\n",
       "      <td>-9223372036854775808</td>\n",
       "      <td>2.535338</td>\n",
       "      <td>train</td>\n",
       "    </tr>\n",
       "    <tr>\n",
       "      <th>7782</th>\n",
       "      <td>2</td>\n",
       "      <td>6504</td>\n",
       "      <td>6</td>\n",
       "      <td>13</td>\n",
       "      <td>15.395237</td>\n",
       "      <td>27</td>\n",
       "      <td>518.0</td>\n",
       "      <td>504.0</td>\n",
       "      <td>14129</td>\n",
       "      <td>-9223372036854775808</td>\n",
       "      <td>4.019705</td>\n",
       "      <td>train</td>\n",
       "    </tr>\n",
       "    <tr>\n",
       "      <th>7783</th>\n",
       "      <td>2</td>\n",
       "      <td>5772</td>\n",
       "      <td>6</td>\n",
       "      <td>8</td>\n",
       "      <td>3.140842</td>\n",
       "      <td>22</td>\n",
       "      <td>189.0</td>\n",
       "      <td>228.0</td>\n",
       "      <td>9972</td>\n",
       "      <td>-9223372036854775808</td>\n",
       "      <td>3.271008</td>\n",
       "      <td>test</td>\n",
       "    </tr>\n",
       "    <tr>\n",
       "      <th>7784</th>\n",
       "      <td>2</td>\n",
       "      <td>6041</td>\n",
       "      <td>6</td>\n",
       "      <td>8</td>\n",
       "      <td>5.160261</td>\n",
       "      <td>21</td>\n",
       "      <td>174.0</td>\n",
       "      <td>110.0</td>\n",
       "      <td>9526</td>\n",
       "      <td>-9223372036854775808</td>\n",
       "      <td>3.115942</td>\n",
       "      <td>train</td>\n",
       "    </tr>\n",
       "    <tr>\n",
       "      <th>7785</th>\n",
       "      <td>2</td>\n",
       "      <td>6160</td>\n",
       "      <td>2</td>\n",
       "      <td>8</td>\n",
       "      <td>11.310233</td>\n",
       "      <td>10</td>\n",
       "      <td>846.0</td>\n",
       "      <td>842.0</td>\n",
       "      <td>9124</td>\n",
       "      <td>-9223372036854775808</td>\n",
       "      <td>2.971147</td>\n",
       "      <td>train</td>\n",
       "    </tr>\n",
       "    <tr>\n",
       "      <th>7786</th>\n",
       "      <td>2</td>\n",
       "      <td>2110</td>\n",
       "      <td>6</td>\n",
       "      <td>14</td>\n",
       "      <td>20.554899</td>\n",
       "      <td>28</td>\n",
       "      <td>542.0</td>\n",
       "      <td>716.0</td>\n",
       "      <td>6203</td>\n",
       "      <td>-9223372036854775808</td>\n",
       "      <td>5.110521</td>\n",
       "      <td>train</td>\n",
       "    </tr>\n",
       "    <tr>\n",
       "      <th>7787</th>\n",
       "      <td>2</td>\n",
       "      <td>3092</td>\n",
       "      <td>6</td>\n",
       "      <td>10</td>\n",
       "      <td>4.256828</td>\n",
       "      <td>13</td>\n",
       "      <td>364.0</td>\n",
       "      <td>179.0</td>\n",
       "      <td>5882</td>\n",
       "      <td>-9223372036854775808</td>\n",
       "      <td>3.633757</td>\n",
       "      <td>train</td>\n",
       "    </tr>\n",
       "    <tr>\n",
       "      <th>7788</th>\n",
       "      <td>2</td>\n",
       "      <td>4971</td>\n",
       "      <td>4</td>\n",
       "      <td>3</td>\n",
       "      <td>4.325858</td>\n",
       "      <td>29</td>\n",
       "      <td>417.0</td>\n",
       "      <td>637.0</td>\n",
       "      <td>5075</td>\n",
       "      <td>-9223372036854775808</td>\n",
       "      <td>2.041730</td>\n",
       "      <td>test</td>\n",
       "    </tr>\n",
       "    <tr>\n",
       "      <th>7789</th>\n",
       "      <td>2</td>\n",
       "      <td>3374</td>\n",
       "      <td>6</td>\n",
       "      <td>5</td>\n",
       "      <td>29.216077</td>\n",
       "      <td>11</td>\n",
       "      <td>910.0</td>\n",
       "      <td>1140.0</td>\n",
       "      <td>4305</td>\n",
       "      <td>-9223372036854775808</td>\n",
       "      <td>2.584301</td>\n",
       "      <td>test</td>\n",
       "    </tr>\n",
       "  </tbody>\n",
       "</table>\n",
       "</div>"
      ],
      "text/plain": [
       "      veracity_num  breadth  category_num  depth  engangement  day  \\\n",
       "7777             2    10703             6     11    25.799399   28   \n",
       "7778             2    11783             5      9    10.811974    1   \n",
       "7782             2     6504             6     13    15.395237   27   \n",
       "7783             2     5772             6      8     3.140842   22   \n",
       "7784             2     6041             6      8     5.160261   21   \n",
       "7785             2     6160             2      8    11.310233   10   \n",
       "7786             2     2110             6     14    20.554899   28   \n",
       "7787             2     3092             6     10     4.256828   13   \n",
       "7788             2     4971             4      3     4.325858   29   \n",
       "7789             2     3374             6      5    29.216077   11   \n",
       "\n",
       "      nfollowees  nfollowers   size         verified_num  virality train_test  \n",
       "7777       186.0       672.0  23228 -9223372036854775808  4.003857       test  \n",
       "7778       313.0       380.0  14827 -9223372036854775808  2.535338      train  \n",
       "7782       518.0       504.0  14129 -9223372036854775808  4.019705      train  \n",
       "7783       189.0       228.0   9972 -9223372036854775808  3.271008       test  \n",
       "7784       174.0       110.0   9526 -9223372036854775808  3.115942      train  \n",
       "7785       846.0       842.0   9124 -9223372036854775808  2.971147      train  \n",
       "7786       542.0       716.0   6203 -9223372036854775808  5.110521      train  \n",
       "7787       364.0       179.0   5882 -9223372036854775808  3.633757      train  \n",
       "7788       417.0       637.0   5075 -9223372036854775808  2.041730       test  \n",
       "7789       910.0      1140.0   4305 -9223372036854775808  2.584301       test  "
      ]
     },
     "execution_count": 9,
     "metadata": {},
     "output_type": "execute_result"
    }
   ],
   "source": [
    "#set seed\n",
    "random_array = np.random.choice([\"train\", \"test\"], size= len(df), p=[1./2, 1./2])\n",
    "df[\"train_test\"] = random_array\n",
    "df.head(10)"
   ]
  },
  {
   "cell_type": "markdown",
   "metadata": {},
   "source": [
    "## Running the models"
   ]
  },
  {
   "cell_type": "code",
   "execution_count": 29,
   "metadata": {
    "scrolled": true
   },
   "outputs": [
    {
     "data": {
      "text/html": [
       "<div>\n",
       "<style>\n",
       "    .dataframe thead tr:only-child th {\n",
       "        text-align: right;\n",
       "    }\n",
       "\n",
       "    .dataframe thead th {\n",
       "        text-align: left;\n",
       "    }\n",
       "\n",
       "    .dataframe tbody tr th {\n",
       "        vertical-align: top;\n",
       "    }\n",
       "</style>\n",
       "<table border=\"1\" class=\"dataframe\">\n",
       "  <thead>\n",
       "    <tr style=\"text-align: right;\">\n",
       "      <th></th>\n",
       "      <th>breadth</th>\n",
       "      <th>depth</th>\n",
       "      <th>engangement</th>\n",
       "      <th>nfollowees</th>\n",
       "      <th>nfollowers</th>\n",
       "      <th>size</th>\n",
       "      <th>virality</th>\n",
       "    </tr>\n",
       "  </thead>\n",
       "  <tbody>\n",
       "    <tr>\n",
       "      <th>7778</th>\n",
       "      <td>11783</td>\n",
       "      <td>9</td>\n",
       "      <td>10.811974</td>\n",
       "      <td>313.0</td>\n",
       "      <td>380.0</td>\n",
       "      <td>14827</td>\n",
       "      <td>2.535338</td>\n",
       "    </tr>\n",
       "    <tr>\n",
       "      <th>7782</th>\n",
       "      <td>6504</td>\n",
       "      <td>13</td>\n",
       "      <td>15.395237</td>\n",
       "      <td>518.0</td>\n",
       "      <td>504.0</td>\n",
       "      <td>14129</td>\n",
       "      <td>4.019705</td>\n",
       "    </tr>\n",
       "    <tr>\n",
       "      <th>7784</th>\n",
       "      <td>6041</td>\n",
       "      <td>8</td>\n",
       "      <td>5.160261</td>\n",
       "      <td>174.0</td>\n",
       "      <td>110.0</td>\n",
       "      <td>9526</td>\n",
       "      <td>3.115942</td>\n",
       "    </tr>\n",
       "    <tr>\n",
       "      <th>7785</th>\n",
       "      <td>6160</td>\n",
       "      <td>8</td>\n",
       "      <td>11.310233</td>\n",
       "      <td>846.0</td>\n",
       "      <td>842.0</td>\n",
       "      <td>9124</td>\n",
       "      <td>2.971147</td>\n",
       "    </tr>\n",
       "    <tr>\n",
       "      <th>7786</th>\n",
       "      <td>2110</td>\n",
       "      <td>14</td>\n",
       "      <td>20.554899</td>\n",
       "      <td>542.0</td>\n",
       "      <td>716.0</td>\n",
       "      <td>6203</td>\n",
       "      <td>5.110521</td>\n",
       "    </tr>\n",
       "    <tr>\n",
       "      <th>7787</th>\n",
       "      <td>3092</td>\n",
       "      <td>10</td>\n",
       "      <td>4.256828</td>\n",
       "      <td>364.0</td>\n",
       "      <td>179.0</td>\n",
       "      <td>5882</td>\n",
       "      <td>3.633757</td>\n",
       "    </tr>\n",
       "    <tr>\n",
       "      <th>7791</th>\n",
       "      <td>1484</td>\n",
       "      <td>13</td>\n",
       "      <td>3.146312</td>\n",
       "      <td>239.0</td>\n",
       "      <td>91836.0</td>\n",
       "      <td>3464</td>\n",
       "      <td>4.428582</td>\n",
       "    </tr>\n",
       "    <tr>\n",
       "      <th>7793</th>\n",
       "      <td>3451</td>\n",
       "      <td>4</td>\n",
       "      <td>9.134362</td>\n",
       "      <td>431.0</td>\n",
       "      <td>9796.0</td>\n",
       "      <td>3603</td>\n",
       "      <td>2.094225</td>\n",
       "    </tr>\n",
       "    <tr>\n",
       "      <th>7797</th>\n",
       "      <td>2324</td>\n",
       "      <td>5</td>\n",
       "      <td>5.212945</td>\n",
       "      <td>9.0</td>\n",
       "      <td>504357.0</td>\n",
       "      <td>3087</td>\n",
       "      <td>2.636815</td>\n",
       "    </tr>\n",
       "    <tr>\n",
       "      <th>7800</th>\n",
       "      <td>1265</td>\n",
       "      <td>9</td>\n",
       "      <td>2.122039</td>\n",
       "      <td>498.0</td>\n",
       "      <td>336.0</td>\n",
       "      <td>2210</td>\n",
       "      <td>3.515614</td>\n",
       "    </tr>\n",
       "  </tbody>\n",
       "</table>\n",
       "</div>"
      ],
      "text/plain": [
       "      breadth  depth  engangement  nfollowees  nfollowers   size  virality\n",
       "7778    11783      9    10.811974       313.0       380.0  14827  2.535338\n",
       "7782     6504     13    15.395237       518.0       504.0  14129  4.019705\n",
       "7784     6041      8     5.160261       174.0       110.0   9526  3.115942\n",
       "7785     6160      8    11.310233       846.0       842.0   9124  2.971147\n",
       "7786     2110     14    20.554899       542.0       716.0   6203  5.110521\n",
       "7787     3092     10     4.256828       364.0       179.0   5882  3.633757\n",
       "7791     1484     13     3.146312       239.0     91836.0   3464  4.428582\n",
       "7793     3451      4     9.134362       431.0      9796.0   3603  2.094225\n",
       "7797     2324      5     5.212945         9.0    504357.0   3087  2.636815\n",
       "7800     1265      9     2.122039       498.0       336.0   2210  3.515614"
      ]
     },
     "execution_count": 29,
     "metadata": {},
     "output_type": "execute_result"
    }
   ],
   "source": [
    "X_train_cat  = df.loc[df[\"train_test\"] == \"train\",column_names_x_cat ]\n",
    "X_test_cat  = df.loc[df[\"train_test\"] == \"test\",column_names_x_cat ]\n",
    "X_train_con  = df.loc[df[\"train_test\"] == \"train\",column_names_x_con ]\n",
    "X_test_con  = df.loc[df[\"train_test\"] == \"test\",column_names_x_con ]\n",
    "Y_train = df.loc[df[\"train_test\"] == \"train\",column_names_y ]\n",
    "Y_test = df.loc[df[\"train_test\"] == \"test\",column_names_y ]\n",
    "\n"
   ]
  },
  {
   "cell_type": "code",
   "execution_count": 11,
   "metadata": {
    "collapsed": true
   },
   "outputs": [],
   "source": [
    "def change_format2(X_train_cat):\n",
    "    X_train_cat.index = np.arange(1, len(X_train_cat) + 1)\n",
    "    for a in range(7):\n",
    "        X_train_cat[\"category_num_%d\"% (a+1)] = 0\n",
    "    for b in range(31):\n",
    "        X_train_cat[\"day_%d\"% (b+1)] = 0\n",
    "    for c in range(3):\n",
    "        X_train_cat[\"verified_%d\"% (c+1)] = 0\n",
    "    \n",
    "    for i in range(len(X_train_cat)):\n",
    "        for j in range(8):\n",
    "            if X_train_cat.iloc[i,0] == j:\n",
    "                X_train_cat[\"category_num_%d\"% (j)][i+1] = 1\n",
    "                break\n",
    "        for k in range(32):\n",
    "            if X_train_cat.iloc[i,1] == k:\n",
    "                X_train_cat[\"day_%d\"% (k)][i+1] = 1\n",
    "                break\n",
    "        for l in range(4):\n",
    "            if X_train_cat.iloc[i,2] == l:\n",
    "                X_train_cat[\"verified_%d\"% (l)][i+1] = 1\n",
    "                break     \n",
    "    return X_train_cat"
   ]
  },
  {
   "cell_type": "code",
   "execution_count": 67,
   "metadata": {
    "scrolled": false
   },
   "outputs": [
    {
     "ename": "AttributeError",
     "evalue": "'numpy.ndarray' object has no attribute 'index'",
     "output_type": "error",
     "traceback": [
      "\u001b[0;31m---------------------------------------------------------------------------\u001b[0m",
      "\u001b[0;31mAttributeError\u001b[0m                            Traceback (most recent call last)",
      "\u001b[0;32m<ipython-input-67-66318d03e874>\u001b[0m in \u001b[0;36m<module>\u001b[0;34m()\u001b[0m\n\u001b[0;32m----> 1\u001b[0;31m \u001b[0mX_train_cat2\u001b[0m \u001b[0;34m=\u001b[0m \u001b[0mchange_format2\u001b[0m\u001b[0;34m(\u001b[0m\u001b[0mX_train_cat\u001b[0m\u001b[0;34m)\u001b[0m\u001b[0;34m\u001b[0m\u001b[0m\n\u001b[0m\u001b[1;32m      2\u001b[0m \u001b[0mX_test_cat2\u001b[0m \u001b[0;34m=\u001b[0m \u001b[0mchange_format2\u001b[0m\u001b[0;34m(\u001b[0m\u001b[0mX_test_cat\u001b[0m\u001b[0;34m)\u001b[0m\u001b[0;34m\u001b[0m\u001b[0m\n",
      "\u001b[0;32m<ipython-input-11-cfefb8bca12b>\u001b[0m in \u001b[0;36mchange_format2\u001b[0;34m(X_train_cat)\u001b[0m\n\u001b[1;32m      1\u001b[0m \u001b[0;32mdef\u001b[0m \u001b[0mchange_format2\u001b[0m\u001b[0;34m(\u001b[0m\u001b[0mX_train_cat\u001b[0m\u001b[0;34m)\u001b[0m\u001b[0;34m:\u001b[0m\u001b[0;34m\u001b[0m\u001b[0m\n\u001b[0;32m----> 2\u001b[0;31m     \u001b[0mX_train_cat\u001b[0m\u001b[0;34m.\u001b[0m\u001b[0mindex\u001b[0m \u001b[0;34m=\u001b[0m \u001b[0mnp\u001b[0m\u001b[0;34m.\u001b[0m\u001b[0marange\u001b[0m\u001b[0;34m(\u001b[0m\u001b[0;36m1\u001b[0m\u001b[0;34m,\u001b[0m \u001b[0mlen\u001b[0m\u001b[0;34m(\u001b[0m\u001b[0mX_train_cat\u001b[0m\u001b[0;34m)\u001b[0m \u001b[0;34m+\u001b[0m \u001b[0;36m1\u001b[0m\u001b[0;34m)\u001b[0m\u001b[0;34m\u001b[0m\u001b[0m\n\u001b[0m\u001b[1;32m      3\u001b[0m     \u001b[0;32mfor\u001b[0m \u001b[0ma\u001b[0m \u001b[0;32min\u001b[0m \u001b[0mrange\u001b[0m\u001b[0;34m(\u001b[0m\u001b[0;36m7\u001b[0m\u001b[0;34m)\u001b[0m\u001b[0;34m:\u001b[0m\u001b[0;34m\u001b[0m\u001b[0m\n\u001b[1;32m      4\u001b[0m         \u001b[0mX_train_cat\u001b[0m\u001b[0;34m[\u001b[0m\u001b[0;34m\"category_num_%d\"\u001b[0m\u001b[0;34m%\u001b[0m \u001b[0;34m(\u001b[0m\u001b[0ma\u001b[0m\u001b[0;34m+\u001b[0m\u001b[0;36m1\u001b[0m\u001b[0;34m)\u001b[0m\u001b[0;34m]\u001b[0m \u001b[0;34m=\u001b[0m \u001b[0;36m0\u001b[0m\u001b[0;34m\u001b[0m\u001b[0m\n\u001b[1;32m      5\u001b[0m     \u001b[0;32mfor\u001b[0m \u001b[0mb\u001b[0m \u001b[0;32min\u001b[0m \u001b[0mrange\u001b[0m\u001b[0;34m(\u001b[0m\u001b[0;36m31\u001b[0m\u001b[0;34m)\u001b[0m\u001b[0;34m:\u001b[0m\u001b[0;34m\u001b[0m\u001b[0m\n",
      "\u001b[0;31mAttributeError\u001b[0m: 'numpy.ndarray' object has no attribute 'index'"
     ]
    }
   ],
   "source": [
    "X_train_cat2 = change_format2(X_train_cat)\n",
    "X_test_cat2 = change_format2(X_test_cat)\n"
   ]
  },
  {
   "cell_type": "code",
   "execution_count": 13,
   "metadata": {
    "collapsed": true
   },
   "outputs": [],
   "source": [
    "X_train_cat2 = X_train_cat2.iloc[:,3:]\n",
    "X_test_cat2 = X_test_cat2.iloc[:,3:]\n",
    "X_test_cat2.head()"
   ]
  },
  {
   "cell_type": "code",
   "execution_count": 62,
   "metadata": {
    "scrolled": true
   },
   "outputs": [],
   "source": [
    "X_train_cat  = X_train_cat2.as_matrix()\n",
    "X_test_cat = X_test_cat2.as_matrix() \n",
    "X_train_con  = X_train_con.as_matrix()\n",
    "X_test_con = X_test_con.as_matrix()\n",
    "Y_train = Y_train.as_matrix()\n",
    "Y_test = Y_test.as_matrix()\n",
    "\n"
   ]
  },
  {
   "cell_type": "code",
   "execution_count": 63,
   "metadata": {},
   "outputs": [
    {
     "data": {
      "text/plain": [
       "array([[0, 0, 0, ..., 0, 0, 0],\n",
       "       [0, 0, 0, ..., 0, 0, 0],\n",
       "       [0, 0, 0, ..., 0, 0, 0],\n",
       "       ..., \n",
       "       [0, 0, 0, ..., 0, 0, 0],\n",
       "       [0, 0, 0, ..., 0, 0, 0],\n",
       "       [0, 0, 0, ..., 0, 0, 0]])"
      ]
     },
     "execution_count": 63,
     "metadata": {},
     "output_type": "execute_result"
    }
   ],
   "source": []
  },
  {
   "cell_type": "code",
   "execution_count": 17,
   "metadata": {},
   "outputs": [
    {
     "name": "stderr",
     "output_type": "stream",
     "text": [
      "Using TensorFlow backend.\n"
     ]
    }
   ],
   "source": [
    "from keras.models import Sequential\n",
    "from keras.layers import Dense, Activation\n",
    "import keras\n"
   ]
  },
  {
   "cell_type": "code",
   "execution_count": 25,
   "metadata": {
    "collapsed": true
   },
   "outputs": [],
   "source": [
    "model_cat = Sequential()\n",
    "model_cat.add(Dense(4,input_dim = 41)) # or 38?\n",
    "model_cat.add(Activation('relu'))\n",
    "model_cat.add(Dense(4))\n",
    "model_cat.add(Activation('softmax'))\n",
    "\n",
    "model_cat.compile(optimizer='rmsprop',\n",
    "              loss='categorical_crossentropy',\n",
    "              metrics=['accuracy'])"
   ]
  },
  {
   "cell_type": "code",
   "execution_count": 65,
   "metadata": {},
   "outputs": [
    {
     "name": "stdout",
     "output_type": "stream",
     "text": [
      "Epoch 1/1\n",
      "20952/20952 [==============================] - 1s 55us/step - loss: 0.8531 - acc: 0.7413\n"
     ]
    },
    {
     "data": {
      "text/plain": [
       "<keras.callbacks.History at 0x1c5e14c780>"
      ]
     },
     "execution_count": 65,
     "metadata": {},
     "output_type": "execute_result"
    }
   ],
   "source": []
  },
  {
   "cell_type": "code",
   "execution_count": 26,
   "metadata": {},
   "outputs": [
    {
     "name": "stdout",
     "output_type": "stream",
     "text": [
      "_________________________________________________________________\n",
      "Layer (type)                 Output Shape              Param #   \n",
      "=================================================================\n",
      "dense_2 (Dense)              (None, 4)                 168       \n",
      "_________________________________________________________________\n",
      "activation_2 (Activation)    (None, 4)                 0         \n",
      "_________________________________________________________________\n",
      "dense_3 (Dense)              (None, 4)                 20        \n",
      "_________________________________________________________________\n",
      "activation_3 (Activation)    (None, 4)                 0         \n",
      "=================================================================\n",
      "Total params: 188\n",
      "Trainable params: 188\n",
      "Non-trainable params: 0\n",
      "_________________________________________________________________\n"
     ]
    }
   ],
   "source": [
    "model_cat.summary()\n"
   ]
  },
  {
   "cell_type": "code",
   "execution_count": 22,
   "metadata": {},
   "outputs": [],
   "source": [
    "import pydot\n",
    "import graphviz"
   ]
  },
  {
   "cell_type": "code",
   "execution_count": 30,
   "metadata": {},
   "outputs": [],
   "source": [
    "from IPython.display import SVG\n",
    "from keras.utils.vis_utils import model_to_dot\n",
    "\n",
    "#SVG(model_to_dot(model).create(prog='dot', format='svg'))"
   ]
  },
  {
   "cell_type": "code",
   "execution_count": 27,
   "metadata": {},
   "outputs": [
    {
     "name": "stdout",
     "output_type": "stream",
     "text": [
      "Epoch 1/20\n",
      "20952/20952 [==============================] - 0s 20us/step - loss: 1.2096 - acc: 0.6648\n",
      "Epoch 2/20\n",
      "20952/20952 [==============================] - 0s 14us/step - loss: 0.8446 - acc: 0.7606\n",
      "Epoch 3/20\n",
      "20952/20952 [==============================] - 0s 14us/step - loss: 0.7192 - acc: 0.7606\n",
      "Epoch 4/20\n",
      "20952/20952 [==============================] - 0s 13us/step - loss: 0.6862 - acc: 0.7606\n",
      "Epoch 5/20\n",
      "20952/20952 [==============================] - 0s 12us/step - loss: 0.6683 - acc: 0.7606\n",
      "Epoch 6/20\n",
      "20952/20952 [==============================] - 0s 14us/step - loss: 0.6546 - acc: 0.7606\n",
      "Epoch 7/20\n",
      "20952/20952 [==============================] - 0s 14us/step - loss: 0.6430 - acc: 0.7606\n",
      "Epoch 8/20\n",
      "20952/20952 [==============================] - 0s 14us/step - loss: 0.6334 - acc: 0.7606\n",
      "Epoch 9/20\n",
      "20952/20952 [==============================] - 0s 14us/step - loss: 0.6258 - acc: 0.7605\n",
      "Epoch 10/20\n",
      "20952/20952 [==============================] - 0s 13us/step - loss: 0.6198 - acc: 0.7605\n",
      "Epoch 11/20\n",
      "20952/20952 [==============================] - 0s 12us/step - loss: 0.6147 - acc: 0.7653\n",
      "Epoch 12/20\n",
      "20952/20952 [==============================] - 0s 13us/step - loss: 0.6105 - acc: 0.7653\n",
      "Epoch 13/20\n",
      "20952/20952 [==============================] - 0s 13us/step - loss: 0.6070 - acc: 0.7657\n",
      "Epoch 14/20\n",
      "20952/20952 [==============================] - 0s 15us/step - loss: 0.6043 - acc: 0.7646\n",
      "Epoch 15/20\n",
      "20952/20952 [==============================] - 0s 13us/step - loss: 0.6022 - acc: 0.7641\n",
      "Epoch 16/20\n",
      "20952/20952 [==============================] - 0s 13us/step - loss: 0.6004 - acc: 0.7650\n",
      "Epoch 17/20\n",
      "20952/20952 [==============================] - 0s 12us/step - loss: 0.5989 - acc: 0.7673\n",
      "Epoch 18/20\n",
      "20952/20952 [==============================] - 0s 12us/step - loss: 0.5976 - acc: 0.7692\n",
      "Epoch 19/20\n",
      "20952/20952 [==============================] - 0s 14us/step - loss: 0.5965 - acc: 0.7703\n",
      "Epoch 20/20\n",
      "20952/20952 [==============================] - 0s 14us/step - loss: 0.5955 - acc: 0.7697\n"
     ]
    },
    {
     "data": {
      "text/plain": [
       "<keras.callbacks.History at 0x1c55a105f8>"
      ]
     },
     "execution_count": 27,
     "metadata": {},
     "output_type": "execute_result"
    }
   ],
   "source": [
    "model_cat.fit(X_train_cat, keras.utils.to_categorical(Y_train, num_classes=None),\n",
    "          epochs=20,\n",
    "          batch_size=128)"
   ]
  },
  {
   "cell_type": "code",
   "execution_count": 47,
   "metadata": {},
   "outputs": [
    {
     "ename": "NameError",
     "evalue": "name 'model_cat' is not defined",
     "output_type": "error",
     "traceback": [
      "\u001b[0;31m---------------------------------------------------------------------------\u001b[0m",
      "\u001b[0;31mNameError\u001b[0m                                 Traceback (most recent call last)",
      "\u001b[0;32m<ipython-input-47-91a5922b0b07>\u001b[0m in \u001b[0;36m<module>\u001b[0;34m()\u001b[0m\n\u001b[0;32m----> 1\u001b[0;31m \u001b[0mscore\u001b[0m \u001b[0;34m=\u001b[0m \u001b[0mmodel_cat\u001b[0m\u001b[0;34m.\u001b[0m\u001b[0mevaluate\u001b[0m\u001b[0;34m(\u001b[0m\u001b[0mX_test_cat2\u001b[0m\u001b[0;34m,\u001b[0m \u001b[0mkeras\u001b[0m\u001b[0;34m.\u001b[0m\u001b[0mutils\u001b[0m\u001b[0;34m.\u001b[0m\u001b[0mto_categorical\u001b[0m\u001b[0;34m(\u001b[0m\u001b[0mY_test\u001b[0m\u001b[0;34m,\u001b[0m \u001b[0mnum_classes\u001b[0m\u001b[0;34m=\u001b[0m\u001b[0;32mNone\u001b[0m\u001b[0;34m)\u001b[0m\u001b[0;34m,\u001b[0m \u001b[0mbatch_size\u001b[0m\u001b[0;34m=\u001b[0m\u001b[0;36m128\u001b[0m\u001b[0;34m)\u001b[0m\u001b[0;34m\u001b[0m\u001b[0m\n\u001b[0m\u001b[1;32m      2\u001b[0m \u001b[0mscore\u001b[0m\u001b[0;34m\u001b[0m\u001b[0m\n",
      "\u001b[0;31mNameError\u001b[0m: name 'model_cat' is not defined"
     ]
    }
   ],
   "source": [
    "score = model_cat.evaluate(X_test_cat2, keras.utils.to_categorical(Y_test, num_classes=None), batch_size=128)\n",
    "score"
   ]
  },
  {
   "cell_type": "markdown",
   "metadata": {},
   "source": [
    "### Categorical model in way that can be combined with other models\n",
    "Also see: https://keras.io/getting-started/functional-api-guide/"
   ]
  },
  {
   "cell_type": "code",
   "execution_count": 70,
   "metadata": {},
   "outputs": [
    {
     "name": "stdout",
     "output_type": "stream",
     "text": [
      "Epoch 1/40\n",
      "20952/20952 [==============================] - 1s 66us/step - loss: 1.0106 - acc: 0.7214\n",
      "Epoch 2/40\n",
      "20952/20952 [==============================] - 1s 57us/step - loss: 0.6814 - acc: 0.7606\n",
      "Epoch 3/40\n",
      "20952/20952 [==============================] - 1s 55us/step - loss: 0.6452 - acc: 0.7606\n",
      "Epoch 4/40\n",
      "20952/20952 [==============================] - 1s 57us/step - loss: 0.6382 - acc: 0.7608\n",
      "Epoch 5/40\n",
      "20952/20952 [==============================] - 1s 51us/step - loss: 0.6343 - acc: 0.7650\n",
      "Epoch 6/40\n",
      "20952/20952 [==============================] - 1s 52us/step - loss: 0.6300 - acc: 0.7668\n",
      "Epoch 7/40\n",
      "20952/20952 [==============================] - 1s 47us/step - loss: 0.6232 - acc: 0.7697\n",
      "Epoch 8/40\n",
      "20952/20952 [==============================] - 1s 49us/step - loss: 0.6144 - acc: 0.7721\n",
      "Epoch 9/40\n",
      "20952/20952 [==============================] - 1s 50us/step - loss: 0.6061 - acc: 0.7753\n",
      "Epoch 10/40\n",
      "20952/20952 [==============================] - 1s 48us/step - loss: 0.6000 - acc: 0.7749\n",
      "Epoch 11/40\n",
      "20952/20952 [==============================] - 1s 50us/step - loss: 0.5973 - acc: 0.7756\n",
      "Epoch 12/40\n",
      "20952/20952 [==============================] - 1s 54us/step - loss: 0.5955 - acc: 0.7757\n",
      "Epoch 13/40\n",
      "20952/20952 [==============================] - 1s 53us/step - loss: 0.5948 - acc: 0.7758\n",
      "Epoch 14/40\n",
      "20952/20952 [==============================] - 1s 48us/step - loss: 0.5942 - acc: 0.7754\n",
      "Epoch 15/40\n",
      "20952/20952 [==============================] - 1s 48us/step - loss: 0.5939 - acc: 0.7755\n",
      "Epoch 16/40\n",
      "20952/20952 [==============================] - 1s 47us/step - loss: 0.5937 - acc: 0.7754\n",
      "Epoch 17/40\n",
      "20952/20952 [==============================] - 1s 51us/step - loss: 0.5938 - acc: 0.7757\n",
      "Epoch 18/40\n",
      "20952/20952 [==============================] - 1s 49us/step - loss: 0.5934 - acc: 0.7761\n",
      "Epoch 19/40\n",
      "20952/20952 [==============================] - 1s 48us/step - loss: 0.5931 - acc: 0.7753\n",
      "Epoch 20/40\n",
      "20952/20952 [==============================] - 1s 55us/step - loss: 0.5928 - acc: 0.7758: 0s - loss: \n",
      "Epoch 21/40\n",
      "20952/20952 [==============================] - 1s 47us/step - loss: 0.5926 - acc: 0.7754\n",
      "Epoch 22/40\n",
      "20952/20952 [==============================] - 1s 51us/step - loss: 0.5929 - acc: 0.7754\n",
      "Epoch 23/40\n",
      "20952/20952 [==============================] - 1s 54us/step - loss: 0.5931 - acc: 0.7758\n",
      "Epoch 24/40\n",
      "20952/20952 [==============================] - 1s 57us/step - loss: 0.5930 - acc: 0.7753\n",
      "Epoch 25/40\n",
      "20952/20952 [==============================] - 1s 48us/step - loss: 0.5927 - acc: 0.7752\n",
      "Epoch 26/40\n",
      "20952/20952 [==============================] - 1s 46us/step - loss: 0.5929 - acc: 0.7753\n",
      "Epoch 27/40\n",
      "20952/20952 [==============================] - 1s 46us/step - loss: 0.5928 - acc: 0.7752\n",
      "Epoch 28/40\n",
      "20952/20952 [==============================] - 1s 47us/step - loss: 0.5930 - acc: 0.7753: 0s - loss: 0.\n",
      "Epoch 29/40\n",
      "20952/20952 [==============================] - 1s 46us/step - loss: 0.5929 - acc: 0.7758\n",
      "Epoch 30/40\n",
      "20952/20952 [==============================] - 1s 47us/step - loss: 0.5929 - acc: 0.7750\n",
      "Epoch 31/40\n",
      "20952/20952 [==============================] - 1s 46us/step - loss: 0.5929 - acc: 0.7751\n",
      "Epoch 32/40\n",
      "20952/20952 [==============================] - 1s 46us/step - loss: 0.5931 - acc: 0.7752: 0s - loss: 0.5866 - acc:\n",
      "Epoch 33/40\n",
      "20952/20952 [==============================] - 1s 46us/step - loss: 0.5932 - acc: 0.7753\n",
      "Epoch 34/40\n",
      "20952/20952 [==============================] - 1s 47us/step - loss: 0.5932 - acc: 0.7755\n",
      "Epoch 35/40\n",
      "20952/20952 [==============================] - 1s 47us/step - loss: 0.5932 - acc: 0.7758\n",
      "Epoch 36/40\n",
      "20952/20952 [==============================] - 1s 46us/step - loss: 0.5932 - acc: 0.7758\n",
      "Epoch 37/40\n",
      "20952/20952 [==============================] - 1s 47us/step - loss: 0.5931 - acc: 0.7756\n",
      "Epoch 38/40\n",
      "20952/20952 [==============================] - 1s 47us/step - loss: 0.5933 - acc: 0.7759\n",
      "Epoch 39/40\n",
      "20952/20952 [==============================] - 1s 46us/step - loss: 0.5929 - acc: 0.7757\n",
      "Epoch 40/40\n",
      "20952/20952 [==============================] - 1s 47us/step - loss: 0.5931 - acc: 0.7761\n"
     ]
    },
    {
     "data": {
      "text/plain": [
       "<keras.callbacks.History at 0x1c608f8ac8>"
      ]
     },
     "execution_count": 70,
     "metadata": {},
     "output_type": "execute_result"
    }
   ],
   "source": [
    "\n",
    "from keras.layers import Input, Dense\n",
    "from keras.models import Model\n",
    "# This returns a tensor\n",
    "inputs = Input(shape=(41,))\n",
    "\n",
    "# a layer instance is callable on a tensor, and returns a tensor\n",
    "x = Dense(4, activation='relu')(inputs)\n",
    "x = Dense(4, activation='relu')(x)\n",
    "predictions = Dense(4, activation='softmax')(x)\n",
    "\n",
    "# This creates a model that includes\n",
    "# the Input layer and three Dense layers\n",
    "model = Model(inputs=inputs, outputs=predictions)\n",
    "model.compile(optimizer='rmsprop',\n",
    "              loss='categorical_crossentropy',\n",
    "              metrics=['accuracy'])\n",
    "model.fit(X_train_cat, keras.utils.to_categorical(Y_train, num_classes=None),epochs=40) "
   ]
  },
  {
   "cell_type": "markdown",
   "metadata": {
    "collapsed": true
   },
   "source": [
    "## Continious model"
   ]
  },
  {
   "cell_type": "code",
   "execution_count": 54,
   "metadata": {},
   "outputs": [],
   "source": [
    "model_con = Sequential()\n",
    "model_con.add(Dense(4,input_dim = 7)) \n",
    "model_con.add(Activation('relu'))\n",
    "model_con.add(Dense(4))\n",
    "model_con.add(Activation('softmax'))\n",
    "\n",
    "model_con.compile(optimizer='rmsprop',\n",
    "              loss='mse',\n",
    "              metrics=['accuracy'])"
   ]
  },
  {
   "cell_type": "code",
   "execution_count": 55,
   "metadata": {},
   "outputs": [
    {
     "name": "stdout",
     "output_type": "stream",
     "text": [
      "_________________________________________________________________\n",
      "Layer (type)                 Output Shape              Param #   \n",
      "=================================================================\n",
      "dense_10 (Dense)             (None, 4)                 32        \n",
      "_________________________________________________________________\n",
      "activation_10 (Activation)   (None, 4)                 0         \n",
      "_________________________________________________________________\n",
      "dense_11 (Dense)             (None, 4)                 20        \n",
      "_________________________________________________________________\n",
      "activation_11 (Activation)   (None, 4)                 0         \n",
      "=================================================================\n",
      "Total params: 52\n",
      "Trainable params: 52\n",
      "Non-trainable params: 0\n",
      "_________________________________________________________________\n"
     ]
    }
   ],
   "source": [
    "model_con.summary()"
   ]
  },
  {
   "cell_type": "code",
   "execution_count": 56,
   "metadata": {
    "scrolled": true
   },
   "outputs": [
    {
     "name": "stdout",
     "output_type": "stream",
     "text": [
      "Epoch 1/20\n",
      "20952/20952 [==============================] - 0s 22us/step - loss: nan - acc: 0.0053\n",
      "Epoch 2/20\n",
      "20952/20952 [==============================] - 0s 14us/step - loss: nan - acc: 0.0000e+00\n",
      "Epoch 3/20\n",
      "20952/20952 [==============================] - 0s 11us/step - loss: nan - acc: 0.0000e+00\n",
      "Epoch 4/20\n",
      "20952/20952 [==============================] - 0s 10us/step - loss: nan - acc: 0.0000e+00\n",
      "Epoch 5/20\n",
      "20952/20952 [==============================] - 0s 10us/step - loss: nan - acc: 0.0000e+00\n",
      "Epoch 6/20\n",
      "20952/20952 [==============================] - 0s 11us/step - loss: nan - acc: 0.0000e+00\n",
      "Epoch 7/20\n",
      "20952/20952 [==============================] - 0s 10us/step - loss: nan - acc: 0.0000e+00\n",
      "Epoch 8/20\n",
      "20952/20952 [==============================] - 0s 12us/step - loss: nan - acc: 0.0000e+00\n",
      "Epoch 9/20\n",
      "20952/20952 [==============================] - 0s 13us/step - loss: nan - acc: 0.0000e+00\n",
      "Epoch 10/20\n",
      "20952/20952 [==============================] - 0s 10us/step - loss: nan - acc: 0.0000e+00\n",
      "Epoch 11/20\n",
      "20952/20952 [==============================] - 0s 11us/step - loss: nan - acc: 0.0000e+00\n",
      "Epoch 12/20\n",
      "20952/20952 [==============================] - 0s 11us/step - loss: nan - acc: 0.0000e+00\n",
      "Epoch 13/20\n",
      "20952/20952 [==============================] - 0s 10us/step - loss: nan - acc: 0.0000e+00\n",
      "Epoch 14/20\n",
      "20952/20952 [==============================] - 0s 10us/step - loss: nan - acc: 0.0000e+00\n",
      "Epoch 15/20\n",
      "20952/20952 [==============================] - 0s 9us/step - loss: nan - acc: 0.0000e+00\n",
      "Epoch 16/20\n",
      "20952/20952 [==============================] - 0s 9us/step - loss: nan - acc: 0.0000e+00\n",
      "Epoch 17/20\n",
      "20952/20952 [==============================] - 0s 9us/step - loss: nan - acc: 0.0000e+00\n",
      "Epoch 18/20\n",
      "20952/20952 [==============================] - 0s 9us/step - loss: nan - acc: 0.0000e+00\n",
      "Epoch 19/20\n",
      "20952/20952 [==============================] - 0s 14us/step - loss: nan - acc: 0.0000e+00\n",
      "Epoch 20/20\n",
      "20952/20952 [==============================] - 0s 13us/step - loss: nan - acc: 0.0000e+00\n"
     ]
    },
    {
     "data": {
      "text/plain": [
       "<keras.callbacks.History at 0x1c5584dcc0>"
      ]
     },
     "execution_count": 56,
     "metadata": {},
     "output_type": "execute_result"
    }
   ],
   "source": [
    "model_con.fit(X_train_con, keras.utils.to_categorical(Y_train, num_classes=None),\n",
    "          epochs=20,\n",
    "          batch_size=128\n",
    "         )"
   ]
  },
  {
   "cell_type": "code",
   "execution_count": 57,
   "metadata": {},
   "outputs": [
    {
     "name": "stdout",
     "output_type": "stream",
     "text": [
      "21129/21129 [==============================] - 0s 10us/step\n"
     ]
    },
    {
     "data": {
      "text/plain": [
       "[nan, 0.0]"
      ]
     },
     "execution_count": 57,
     "metadata": {},
     "output_type": "execute_result"
    }
   ],
   "source": [
    "score_con = model_con.evaluate(X_test_con, keras.utils.to_categorical(Y_test, num_classes=None), batch_size=128)\n",
    "score_con"
   ]
  },
  {
   "cell_type": "code",
   "execution_count": null,
   "metadata": {
    "collapsed": true
   },
   "outputs": [],
   "source": []
  },
  {
   "cell_type": "code",
   "execution_count": null,
   "metadata": {
    "collapsed": true
   },
   "outputs": [],
   "source": [
    "model_total = Sequential()\n",
    "model_total.add(Dense(4,input_dim = 7)) \n",
    "model_total.add(Activation('relu'))\n",
    "model_total.add(Dense(4))\n",
    "model_total.add(Activation('softmax'))\n",
    "\n",
    "model_total.compile(optimizer='rmsprop',\n",
    "              loss='mse',\n",
    "              metrics=['accuracy'])"
   ]
  },
  {
   "cell_type": "markdown",
   "metadata": {},
   "source": [
    "# For later:\n",
    "\n",
    "### Stacked LSTM for sequence classification\n",
    "In this model, we stack 3 LSTM layers on top of each other, making the model capable of learning higher-level temporal representations.\n",
    "\n",
    "The first two LSTMs return their full output sequences, but the last one only returns the last step in its output sequence, thus dropping the temporal dimension (i.e. converting the input sequence into a single vector).\n",
    "\n"
   ]
  },
  {
   "cell_type": "code",
   "execution_count": null,
   "metadata": {
    "collapsed": true
   },
   "outputs": [],
   "source": [
    "from keras.models import Sequential\n",
    "from keras.layers import LSTM, Dense\n",
    "import numpy as np\n",
    "\n",
    "data_dim = 16\n",
    "timesteps = 8\n",
    "num_classes = 10\n",
    "\n",
    "# expected input data shape: (batch_size, timesteps, data_dim)\n",
    "model = Sequential()\n",
    "model.add(LSTM(32, return_sequences=True,\n",
    "               input_shape=(timesteps, data_dim)))  # returns a sequence of vectors of dimension 32\n",
    "model.add(LSTM(32, return_sequences=True))  # returns a sequence of vectors of dimension 32\n",
    "model.add(LSTM(32))  # return a single vector of dimension 32\n",
    "model.add(Dense(10, activation='softmax'))\n",
    "\n",
    "model.compile(loss='categorical_crossentropy',\n",
    "              optimizer='rmsprop',\n",
    "              metrics=['accuracy'])\n",
    "\n",
    "# Generate dummy training data\n",
    "x_train = np.random.random((1000, timesteps, data_dim))\n",
    "y_train = np.random.random((1000, num_classes))\n",
    "\n",
    "# Generate dummy validation data\n",
    "x_val = np.random.random((100, timesteps, data_dim))\n",
    "y_val = np.random.random((100, num_classes))\n",
    "\n",
    "model.fit(x_train, y_train,\n",
    "          batch_size=64, epochs=5,\n",
    "          validation_data=(x_val, y_val))\n",
    "\n"
   ]
  },
  {
   "cell_type": "code",
   "execution_count": null,
   "metadata": {
    "collapsed": true
   },
   "outputs": [],
   "source": []
  },
  {
   "cell_type": "code",
   "execution_count": null,
   "metadata": {
    "collapsed": true
   },
   "outputs": [],
   "source": []
  }
 ],
 "metadata": {
  "kernelspec": {
   "display_name": "Python 3",
   "language": "python",
   "name": "python3"
  },
  "language_info": {
   "codemirror_mode": {
    "name": "ipython",
    "version": 3
   },
   "file_extension": ".py",
   "mimetype": "text/x-python",
   "name": "python",
   "nbconvert_exporter": "python",
   "pygments_lexer": "ipython3",
   "version": "3.6.3"
  }
 },
 "nbformat": 4,
 "nbformat_minor": 2
}
